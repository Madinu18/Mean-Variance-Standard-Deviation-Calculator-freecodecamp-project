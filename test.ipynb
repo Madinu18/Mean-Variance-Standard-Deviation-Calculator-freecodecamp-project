{
 "cells": [
  {
   "cell_type": "code",
   "execution_count": 1,
   "metadata": {},
   "outputs": [],
   "source": [
    "import numpy as np"
   ]
  },
  {
   "cell_type": "code",
   "execution_count": 8,
   "metadata": {},
   "outputs": [
    {
     "name": "stdout",
     "output_type": "stream",
     "text": [
      "[[0 1 2]\n",
      " [3 4 5]\n",
      " [6 7 8]]\n"
     ]
    }
   ],
   "source": [
    "arr = np.array([[0, 1, 2],[3, 4, 5],[6, 7, 8]])\n",
    "print(arr)"
   ]
  },
  {
   "cell_type": "code",
   "execution_count": 13,
   "metadata": {},
   "outputs": [
    {
     "name": "stdout",
     "output_type": "stream",
     "text": [
      "[3. 4. 5.] [1. 4. 7.] 4.0\n"
     ]
    }
   ],
   "source": [
    "mean_axis1 = np.mean(arr, axis=0)\n",
    "mean_axis2 = np.mean(arr, axis=1)\n",
    "mean = np.mean(arr)\n",
    "print(mean_axis1, mean_axis2, mean)"
   ]
  },
  {
   "cell_type": "code",
   "execution_count": 14,
   "metadata": {},
   "outputs": [
    {
     "name": "stdout",
     "output_type": "stream",
     "text": [
      "[6. 6. 6.] [0.66666667 0.66666667 0.66666667] 6.666666666666667\n"
     ]
    }
   ],
   "source": [
    "var_axis1 = np.var(arr, axis=0)\n",
    "var_axis2 = np.var(arr, axis=1)\n",
    "var = np.var(arr)\n",
    "print(var_axis1, var_axis2, var)"
   ]
  },
  {
   "cell_type": "code",
   "execution_count": 23,
   "metadata": {},
   "outputs": [
    {
     "name": "stdout",
     "output_type": "stream",
     "text": [
      "[2.44948974 2.44948974 2.44948974] [0.81649658 0.81649658 0.81649658] 2.581988897471611\n"
     ]
    }
   ],
   "source": [
    "std_axis1 = np.std(arr, axis=0)\n",
    "std_axis2 = np.std(arr, axis=1)\n",
    "std = np.std(arr)\n",
    "print(std_axis1, std_axis2, std)"
   ]
  },
  {
   "cell_type": "code",
   "execution_count": 27,
   "metadata": {},
   "outputs": [
    {
     "name": "stdout",
     "output_type": "stream",
     "text": [
      "[6 7 8] [2 5 8] 8\n"
     ]
    }
   ],
   "source": [
    "max_axis1= np.max(arr, axis=0)\n",
    "max_axis2= np.max(arr, axis=1)\n",
    "max = np.max(arr)\n",
    "print(max_axis1, max_axis2, max)"
   ]
  },
  {
   "cell_type": "code",
   "execution_count": 28,
   "metadata": {},
   "outputs": [
    {
     "name": "stdout",
     "output_type": "stream",
     "text": [
      "[0 1 2] [0 3 6] 0\n"
     ]
    }
   ],
   "source": [
    "min_axis1 = np.min(arr, axis=0)\n",
    "min_axis2 = np.min(arr, axis=1)\n",
    "min = np.min(arr)\n",
    "print(min_axis1, min_axis2, min)"
   ]
  },
  {
   "cell_type": "code",
   "execution_count": 29,
   "metadata": {},
   "outputs": [
    {
     "name": "stdout",
     "output_type": "stream",
     "text": [
      "[ 9 12 15] [ 3 12 21] 36\n"
     ]
    }
   ],
   "source": [
    "sum_axis1 = np.sum(arr, axis=0)\n",
    "sum_axis2 = np.sum(arr, axis=1)\n",
    "sum = np.sum(arr)\n",
    "print(sum_axis1, sum_axis2, sum)"
   ]
  },
  {
   "cell_type": "code",
   "execution_count": 1,
   "metadata": {},
   "outputs": [
    {
     "name": "stdout",
     "output_type": "stream",
     "text": [
      "[[9 1 5]\n",
      " [3 3 3]\n",
      " [2 9 0]]\n"
     ]
    }
   ],
   "source": [
    "import numpy as np\n",
    "\n",
    "def convert_to_3x3_array(digits_list):\n",
    "    # Check if the input list has exactly 9 elements\n",
    "    if len(digits_list) != 9:\n",
    "        raise ValueError(\"List must contain nine digits.\")\n",
    "\n",
    "    # Convert the list to a 3x3 NumPy array\n",
    "    array_3x3 = np.array(digits_list).reshape(3, 3)\n",
    "\n",
    "    return array_3x3\n",
    "\n",
    "# Example usage:\n",
    "digits_list = [9,1,5,3,3,3,2,9,0]\n",
    "result_array = convert_to_3x3_array(digits_list)\n",
    "print(result_array)"
   ]
  },
  {
   "cell_type": "code",
   "execution_count": 2,
   "metadata": {},
   "outputs": [
    {
     "ename": "NameError",
     "evalue": "name 'mean_axis1' is not defined",
     "output_type": "error",
     "traceback": [
      "\u001b[1;31m---------------------------------------------------------------------------\u001b[0m",
      "\u001b[1;31mNameError\u001b[0m                                 Traceback (most recent call last)",
      "Cell \u001b[1;32mIn[2], line 2\u001b[0m\n\u001b[0;32m      1\u001b[0m result \u001b[38;5;241m=\u001b[39m {\n\u001b[1;32m----> 2\u001b[0m         \u001b[38;5;124m'\u001b[39m\u001b[38;5;124mmeam\u001b[39m\u001b[38;5;124m'\u001b[39m : [\u001b[43mmean_axis1\u001b[49m, mean_axis2, mean],\n\u001b[0;32m      3\u001b[0m         \u001b[38;5;124m'\u001b[39m\u001b[38;5;124mvariance\u001b[39m\u001b[38;5;124m'\u001b[39m : [var_axis1, var_axis2, var],\n\u001b[0;32m      4\u001b[0m         \u001b[38;5;124m'\u001b[39m\u001b[38;5;124mstandard deviation\u001b[39m\u001b[38;5;124m'\u001b[39m : [std_axis1, std_axis2, std],\n\u001b[0;32m      5\u001b[0m         \u001b[38;5;124m'\u001b[39m\u001b[38;5;124mmax\u001b[39m\u001b[38;5;124m'\u001b[39m : [max_axis1, max_axis2, \u001b[38;5;28mmax\u001b[39m],\n\u001b[0;32m      6\u001b[0m         \u001b[38;5;124m'\u001b[39m\u001b[38;5;124mmin\u001b[39m\u001b[38;5;124m'\u001b[39m : [min_axis1, min_axis2, \u001b[38;5;28mmin\u001b[39m],\n\u001b[0;32m      7\u001b[0m         \u001b[38;5;124m'\u001b[39m\u001b[38;5;124msum\u001b[39m\u001b[38;5;124m'\u001b[39m : [sum_axis1, sum_axis2, \u001b[38;5;28msum\u001b[39m],\n\u001b[0;32m      8\u001b[0m     }\n\u001b[0;32m     10\u001b[0m \u001b[38;5;28mprint\u001b[39m(result)\n",
      "\u001b[1;31mNameError\u001b[0m: name 'mean_axis1' is not defined"
     ]
    }
   ],
   "source": [
    "result = {\n",
    "        'meam' : [mean_axis1, mean_axis2, mean],\n",
    "        'variance' : [var_axis1, var_axis2, var],\n",
    "        'standard deviation' : [std_axis1, std_axis2, std],\n",
    "        'max' : [max_axis1, max_axis2, max],\n",
    "        'min' : [min_axis1, min_axis2, min],\n",
    "        'sum' : [sum_axis1, sum_axis2, sum],\n",
    "    }\n",
    "    \n",
    "print(result)"
   ]
  },
  {
   "cell_type": "code",
   "execution_count": 13,
   "metadata": {},
   "outputs": [],
   "source": [
    "import numpy as np\n",
    "\n",
    "def calculate(input_list):\n",
    "\n",
    "    if len(input_list) !=9:\n",
    "        raise ValueError(\"List must contain nine numbers\")\n",
    "    \n",
    "    \n",
    "    arr = np.array(input_list).reshape(3,3)\n",
    "\n",
    "    mean_axis1 = np.mean(arr, axis=0)\n",
    "    mean_axis2 = np.mean(arr, axis=1)\n",
    "    mean = np.mean(arr)\n",
    "\n",
    "    var_axis1 = np.var(arr, axis=0)\n",
    "    var_axis2 = np.var(arr, axis=1)\n",
    "    var = np.var(arr)\n",
    "\n",
    "    std_axis1 = np.std(arr, axis=0)\n",
    "    std_axis2 = np.std(arr, axis=1)\n",
    "    std = np.std(arr)\n",
    "\n",
    "    max_axis1 = np.max(arr, axis=0)\n",
    "    max_axis2 = np.max(arr, axis=1)\n",
    "    max = np.max(arr)\n",
    "\n",
    "    min_axis1 = np.min(arr, axis=0)\n",
    "    min_axis2 = np.min(arr, axis=1)\n",
    "    min = np.min(arr)\n",
    "\n",
    "    sum_axis1 = np.sum(arr, axis=0)\n",
    "    sum_axis2 = np.sum(arr, axis=1)\n",
    "    sum = np.sum(arr)\n",
    "\n",
    "    result = {\n",
    "        'mean' : [mean_axis1, mean_axis2, mean],\n",
    "        'variance' : [var_axis1, var_axis2, var],\n",
    "        'standard deviation' : [std_axis1, std_axis2, std],\n",
    "        'max' : [max_axis1, max_axis2, max],\n",
    "        'min' : [min_axis1, min_axis2, min],\n",
    "        'sum' : [sum_axis1, sum_axis2, sum]\n",
    "    }\n",
    "\n",
    "    return result"
   ]
  },
  {
   "cell_type": "code",
   "execution_count": 14,
   "metadata": {},
   "outputs": [
    {
     "data": {
      "text/plain": [
       "{'mean': [array([4.66666667, 4.33333333, 2.66666667]),\n",
       "  array([5.        , 3.        , 3.66666667]),\n",
       "  3.888888888888889],\n",
       " 'variance': [array([ 9.55555556, 11.55555556,  4.22222222]),\n",
       "  array([10.66666667,  0.        , 14.88888889]),\n",
       "  9.209876543209875],\n",
       " 'standard deviation': [array([3.09120617, 3.39934634, 2.05480467]),\n",
       "  array([3.26598632, 0.        , 3.8586123 ]),\n",
       "  3.0347778408328137],\n",
       " 'max': [array([9, 9, 5]), array([9, 3, 9]), 9],\n",
       " 'min': [array([2, 1, 0]), array([1, 3, 0]), 0],\n",
       " 'sum': [array([14, 13,  8]), array([15,  9, 11]), 35]}"
      ]
     },
     "execution_count": 14,
     "metadata": {},
     "output_type": "execute_result"
    }
   ],
   "source": [
    "calculate([9,1,5,3,3,3,2,9,0])"
   ]
  }
 ],
 "metadata": {
  "kernelspec": {
   "display_name": "Python 3",
   "language": "python",
   "name": "python3"
  },
  "language_info": {
   "codemirror_mode": {
    "name": "ipython",
    "version": 3
   },
   "file_extension": ".py",
   "mimetype": "text/x-python",
   "name": "python",
   "nbconvert_exporter": "python",
   "pygments_lexer": "ipython3",
   "version": "3.10.0"
  }
 },
 "nbformat": 4,
 "nbformat_minor": 2
}
